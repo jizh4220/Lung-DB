{
 "cells": [
  {
   "cell_type": "code",
   "execution_count": null,
   "metadata": {},
   "outputs": [],
   "source": [
    "import pandas as pd\n",
    "def readPlotSummary():\n",
    "    pd.read_csv()\n"
   ]
  },
  {
   "cell_type": "code",
   "execution_count": 1,
   "metadata": {},
   "outputs": [
    {
     "name": "stdout",
     "output_type": "stream",
     "text": [
      "      Unnamed: 0   accession disease         tissue  \\\n",
      "0              1  ERR8048231  Normal    atrium lung   \n",
      "1              2  ERR8048233  Normal  proximal lung   \n",
      "2              3  ERR8048236  Normal    distal lung   \n",
      "3              4  ERR8048239  Normal  proximal lung   \n",
      "4              5  ERR8048242  Normal    distal lung   \n",
      "...          ...         ...     ...            ...   \n",
      "2283        2284  GSM5219678    LUAD           LUAD   \n",
      "2284        2285  GSM5219679    LUAD           LUAD   \n",
      "2285        2286  GSM5219680    LUAD           LUAD   \n",
      "2286        2287  GSM5219681    LUAD           LUAD   \n",
      "2287        2288  GSM5219682    LUAD           LUAD   \n",
      "\n",
      "                                           age gender     gse_alias  cells  \n",
      "0                            Carnegie stage 22      F  E-MTAB-11278   3406  \n",
      "1     18th week post-fertilization human stage      M  E-MTAB-11278   4256  \n",
      "2     18th week post-fertilization human stage      M  E-MTAB-11278   1315  \n",
      "3     22nd week post-fertilization human stage      M  E-MTAB-11278   3740  \n",
      "4     22nd week post-fertilization human stage      M  E-MTAB-11278   1712  \n",
      "...                                        ...    ...           ...    ...  \n",
      "2283                                       NaN    NaN     GSE171145   2353  \n",
      "2284                                       NaN    NaN     GSE171145    528  \n",
      "2285                                       NaN    NaN     GSE171145   2843  \n",
      "2286                                       NaN    NaN     GSE171145    705  \n",
      "2287                                       NaN    NaN     GSE171145   1073  \n",
      "\n",
      "[5018 rows x 8 columns]\n"
     ]
    }
   ],
   "source": [
    "import glob\n",
    "import os\n",
    "import pandas as pd\n",
    " \n",
    "target_dir = \"/Users/justinzhang/Downloads/LungDB_backend/summary/\"\n",
    "\n",
    "all_files = glob.glob(target_dir+\"/*.csv\")\n",
    "df = pd.concat((pd.read_csv(f) for f in all_files))\n",
    "print(df)\n",
    "\n"
   ]
  },
  {
   "cell_type": "code",
   "execution_count": 2,
   "metadata": {},
   "outputs": [
    {
     "data": {
      "text/plain": [
       "array(['ERR8048231', 'ERR8048233', 'ERR8048236', ..., '390C_12h',\n",
       "       '390C_24h', '390C_72h'], dtype=object)"
      ]
     },
     "execution_count": 2,
     "metadata": {},
     "output_type": "execute_result"
    }
   ],
   "source": [
    "df.accession.unique()"
   ]
  }
 ],
 "metadata": {
  "kernelspec": {
   "display_name": "Python 3.10.5 64-bit",
   "language": "python",
   "name": "python3"
  },
  "language_info": {
   "codemirror_mode": {
    "name": "ipython",
    "version": 3
   },
   "file_extension": ".py",
   "mimetype": "text/x-python",
   "name": "python",
   "nbconvert_exporter": "python",
   "pygments_lexer": "ipython3",
   "version": "3.10.5"
  },
  "orig_nbformat": 4,
  "vscode": {
   "interpreter": {
    "hash": "aee8b7b246df8f9039afb4144a1f6fd8d2ca17a180786b69acc140d282b71a49"
   }
  }
 },
 "nbformat": 4,
 "nbformat_minor": 2
}
